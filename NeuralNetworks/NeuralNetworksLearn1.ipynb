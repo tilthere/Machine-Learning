{
 "cells": [
  {
   "cell_type": "markdown",
   "metadata": {
    "collapsed": true
   },
   "source": [
    "# Classification with Neural Networks\n"
   ]
  },
  {
   "cell_type": "markdown",
   "metadata": {
    "collapsed": true
   },
   "source": [
    "\n",
    "This project built a simple neural network trained by backpropagation and gradient descent;\n",
    "Then use the trained Neural networks to classify data, calculate the classfication accuracy as well."
   ]
  },
  {
   "cell_type": "code",
   "execution_count": 1,
   "metadata": {
    "collapsed": true
   },
   "outputs": [],
   "source": [
    "import numpy as np\n",
    "import math\n",
    "import matplotlib.pyplot as plt\n",
    "import pandas as pd\n",
    "%matplotlib inline"
   ]
  },
  {
   "cell_type": "code",
   "execution_count": 2,
   "metadata": {
    "collapsed": true
   },
   "outputs": [],
   "source": [
    "# sigmoid function\n",
    "def linear(w1,w2,x):\n",
    "    return w1*x + w2    \n",
    "\n",
    "def sigmoid(x):\n",
    "    return 1/(1 + np.exp(-x))\n",
    "\n",
    "def sigmoidPrime(x):\n",
    "    return sigmoid(x)*(1-sigmoid(x))"
   ]
  },
  {
   "cell_type": "code",
   "execution_count": 3,
   "metadata": {
    "collapsed": false
   },
   "outputs": [],
   "source": [
    "class NNW(object):\n",
    "    def __init__(self, layers):\n",
    "        \n",
    "        self.w = []\n",
    "        for i in range(1, len(layers) - 1):\n",
    "            self.w.append((2*np.random.random((layers[i - 1] + 1, layers[i]+ 1))-1)/np.sqrt(layers[i-1]))\n",
    "        self.w.append((2*np.random.random((layers[i] + 1, layers[i + 1]))-1)/np.sqrt(layers[i-1]))\n",
    "        \n",
    "    def addBias(self,X):\n",
    "        X = np.atleast_2d(X)\n",
    "        temp = np.ones([X.shape[0], X.shape[1]+1])\n",
    "        temp[:, 0:-1] = X  # adding the bias unit to the input layer\n",
    "        X = temp\n",
    "        return X\n",
    "\n",
    "   # store every layers' activation value \n",
    "    def forwardAll(self, x):\n",
    "        alist = [x]  \n",
    "        for l in range(len(self.w)):\n",
    "                alist.append(sigmoid(np.dot(alist[l], self.w[l])))\n",
    "        return alist\n",
    "    \n",
    "    \n",
    "    def outcome(self, x):\n",
    "        a = self.addBias(x)\n",
    "        for l in range(0, len(self.w)):\n",
    "            a = sigmoid(np.dot(a, self.w[l]))\n",
    "        return a\n",
    "    \n",
    " \n",
    "    def predict(self,x):\n",
    "        a = self.outcome(x)\n",
    "        predi = np.argmax(a)\n",
    "        return predi   \n",
    "    \n",
    "     \n",
    "    def backpro(self,x,t,eta):\n",
    "        alist = self.forwardAll(x)\n",
    "        error = t - alist[-1]\n",
    "        delta = [error * sigmoidPrime(alist[-1])]\n",
    "        \n",
    "        for l in range(len(alist) - 2, 0, -1): \n",
    "            delta.append(delta[-1].dot(self.w[l].T)*sigmoidPrime(alist[l]))\n",
    "        delta.reverse()\n",
    "        for i in range(len(self.w)):\n",
    "            layer = np.atleast_2d(alist[i])\n",
    "            dta = np.atleast_2d(delta[i])\n",
    "            self.w[i] += eta * layer.T.dot(dta)\n",
    "    \n",
    "    def fit(self,trainset,eta,epoch,testset = None):\n",
    "        train_cost = []\n",
    "        test_cost = []\n",
    "        train_accu = []\n",
    "        test_accu = []\n",
    "        for e in range(epoch):\n",
    "            for x, t in trainset:\n",
    "                x = self.addBias(x)\n",
    "                self.backpro(x,t,eta)\n",
    "            \n",
    "            # store train_cost\n",
    "            c1 = self.costFunc(trainset)\n",
    "            a1 = self.accuracy(trainset)\n",
    "            train_cost.append(c1)\n",
    "            train_accu.append(a1)\n",
    "\n",
    "            if c1 < 0.0001:\n",
    "                print(\"Stop at epoch: \", e)\n",
    "                print(\"Cost is: \", c1)\n",
    "                break\n",
    "            if testset:    \n",
    "                c2 = self.costFunc(testset)\n",
    "                test_cost.append(c2)\n",
    "                a2 = self.accuracy(testset)\n",
    "                test_accu.append(a2)\n",
    "                \n",
    "        fig,ax = plt.subplots(2, sharex=True)\n",
    "        ax[0].plot(train_cost, 'r--', label='Train Cost')\n",
    "        ax[0].plot(test_cost, 'b', label='Test Cost')\n",
    "        legend = ax[0].legend(loc='best')\n",
    "        \n",
    "        ax[1].plot(train_accu,'r',label = \"Train accuracy\")\n",
    "        ax[1].plot(test_accu,'b',label = \"Test accuracy\")\n",
    "        legend = ax[1].legend(loc = 'best')\n",
    "            \n",
    "            \n",
    "    def accuracy(self,testset):\n",
    "        m = len(testset)\n",
    "        count = 0\n",
    "        for x,y in testset:\n",
    "            #print(len(y))\n",
    "            if len(y)>1:           #more than 2 outcomes\n",
    "                p = self.predict(x)\n",
    "                #print(p)\n",
    "                t = np.argmax(y)\n",
    "                #print(t)\n",
    "                #print(\"\\n\")\n",
    "            elif len(y)==1:\n",
    "                t = y\n",
    "                #print(t)\n",
    "                o = self.outcome(x)\n",
    "                #print (o)\n",
    "                if o > 0.5:      # set thresholds\n",
    "                    p = 1\n",
    "                else:\n",
    "                    p = 0\n",
    "            if p == t:\n",
    "                count += 1                  \n",
    "        acc = 1.0 * count / m * 100\n",
    "        #print(\"The predict accuracy is: \", acc)\n",
    "        return acc\n",
    "\n",
    "    \n",
    "    def costFunc(self, dataset):\n",
    "        cost = 0.0\n",
    "        for x, t in dataset:\n",
    "            a = self.outcome(x)\n",
    "            cost += 0.5*np.linalg.norm(a-t)**2/len(dataset)\n",
    "        return cost\n",
    "    \n"
   ]
  },
  {
   "cell_type": "code",
   "execution_count": 4,
   "metadata": {
    "collapsed": true
   },
   "outputs": [],
   "source": [
    "def splitData(dataset,percentage):    # randomly split the dataset by percentage\n",
    "    np.random.shuffle(dataset)\n",
    "    n = int(round(len(dataset)*percentage))\n",
    "    trainset = dataset[:n]\n",
    "    testset = dataset[n:]\n",
    "    return trainset, testset"
   ]
  },
  {
   "cell_type": "code",
   "execution_count": 5,
   "metadata": {
    "collapsed": false
   },
   "outputs": [],
   "source": [
    "# iris dataset\n",
    "\n",
    "iris_df = pd.read_csv('https://archive.ics.uci.edu/ml/machine-learning-databases/iris/iris.data', header=None)\n",
    "\n",
    "iris_X= iris_df.ix[:,0:3]\n",
    "iris_X = np.array(iris_X).astype(np.float32)\n",
    "\n",
    "datalen = iris_df[4].shape[0]\n",
    "iris_Y = np.zeros((datalen,3),dtype = 'float32')\n",
    "\n",
    "for i in range(datalen):\n",
    "    if iris_df[4][i]==\"Iris-setosa\":\n",
    "        iris_Y[i][0]=1\n",
    "    elif iris_df[4][i]=='Iris-versicolor':\n",
    "        iris_Y[i][1]=1\n",
    "    elif iris_df[4][i]==\"Iris-virginica\":\n",
    "        iris_Y[i][2]=1\n",
    "\n",
    "iris_Y = np.array(iris_Y)\n",
    "\n",
    "irisset = zip(iris_X,iris_Y)\n",
    "irisset = list(irisset)\n",
    "\n",
    "#split training and test sets\n",
    "iris_train, iris_test = splitData(irisset, 0.6)"
   ]
  },
  {
   "cell_type": "code",
   "execution_count": 11,
   "metadata": {
    "collapsed": false
   },
   "outputs": [],
   "source": [
    "irisNN = NNW([4,6,3])"
   ]
  },
  {
   "cell_type": "code",
   "execution_count": 12,
   "metadata": {
    "collapsed": false
   },
   "outputs": [
    {
     "data": {
      "image/png": "[encoded data removed]",
      "text/plain": [
       "<matplotlib.figure.Figure at 0x1069b8860>"
      ]
     },
     "metadata": {},
     "output_type": "display_data"
    }
   ],
   "source": [
    "irisNN.fit(iris_train, 0.01, 400, iris_test)"
   ]
  },
  {
   "cell_type": "code",
   "execution_count": 13,
   "metadata": {
    "collapsed": false
   },
   "outputs": [
    {
     "data": {
      "text/plain": [
       "(77.77777777777779, 75.0)"
      ]
     },
     "execution_count": 13,
     "metadata": {},
     "output_type": "execute_result"
    }
   ],
   "source": [
    "irisNN.accuracy(iris_train),irisNN.accuracy(iris_test)"
   ]
  },
  {
   "cell_type": "code",
   "execution_count": 14,
   "metadata": {
    "collapsed": false
   },
   "outputs": [
    {
     "data": {
      "image/png": "[encoded data removed]",
      "text/plain": [
       "<matplotlib.figure.Figure at 0x108afb390>"
      ]
     },
     "metadata": {},
     "output_type": "display_data"
    }
   ],
   "source": [
    "irisNN = NNW([4,8,3])\n",
    "irisNN.fit(iris_train, 0.005, 600, iris_test)"
   ]
  },
  {
   "cell_type": "code",
   "execution_count": 15,
   "metadata": {
    "collapsed": false
   },
   "outputs": [
    {
     "data": {
      "text/plain": [
       "(95.55555555555556, 96.66666666666667)"
      ]
     },
     "execution_count": 15,
     "metadata": {},
     "output_type": "execute_result"
    }
   ],
   "source": [
    "irisNN.accuracy(iris_train),irisNN.accuracy(iris_test)"
   ]
  },
  {
   "cell_type": "code",
   "execution_count": 16,
   "metadata": {
    "collapsed": false
   },
   "outputs": [],
   "source": [
    "#try fishing dataset\n",
    "fishing_df = pd.read_excel(\n",
    "                'fishingData.xlsx', skiprows = 2, header = 0 )\n",
    "# Enumeric     \n",
    "fishing = fishing_df.replace(['Strong', 'Weak', 'Warm', 'Moderate', \n",
    "                   'Cold','Cool','Sunny','Cloudy','Rainy','Yes','No'], \n",
    "                     [1, 2, 3, 4, 5,6,7,8,9,1,0])\n",
    "                     \n",
    "fishing_training = fishing.loc[0:13]\n",
    "fishing_test = fishing.loc[19:19] \n",
    "\n",
    "      \n",
    "fishing_X = fishing_training.ix[:,0:4] \n",
    "fishing_X = np.array(fishing_X).astype(np.float32)\n",
    "\n",
    "fishing_Y = fishing_training.ix[:,4:5]\n",
    "fishing_Y = np.array(fishing_Y).astype(np.float32)\n",
    "\n",
    "test = fishing_test.ix[:,0:4]"
   ]
  },
  {
   "cell_type": "code",
   "execution_count": 17,
   "metadata": {
    "collapsed": false
   },
   "outputs": [],
   "source": [
    "fishingset = zip(fishing_X,fishing_Y)\n",
    "fishingset = list(fishingset)\n",
    "fish_train, fish_test = splitData(fishingset, 0.5)"
   ]
  },
  {
   "cell_type": "code",
   "execution_count": 18,
   "metadata": {
    "collapsed": false
   },
   "outputs": [],
   "source": [
    "FN = NNW([4,10,1])"
   ]
  },
  {
   "cell_type": "code",
   "execution_count": 19,
   "metadata": {
    "collapsed": false
   },
   "outputs": [
    {
     "data": {
      "image/png": "[encoded data removed]",
      "text/plain": [
       "<matplotlib.figure.Figure at 0x10c0eb5f8>"
      ]
     },
     "metadata": {},
     "output_type": "display_data"
    }
   ],
   "source": [
    "FN.fit(fish_train, 0.05, 100,fish_test)"
   ]
  },
  {
   "cell_type": "code",
   "execution_count": 20,
   "metadata": {
    "collapsed": false
   },
   "outputs": [
    {
     "data": {
      "text/plain": [
       "(57.14285714285714, 57.14285714285714)"
      ]
     },
     "execution_count": 20,
     "metadata": {},
     "output_type": "execute_result"
    }
   ],
   "source": [
    "FN.accuracy(fish_train), FN.accuracy(fish_test)"
   ]
  },
  {
   "cell_type": "code",
   "execution_count": 70,
   "metadata": {
    "collapsed": false
   },
   "outputs": [
    {
     "data": {
      "text/html": [
       "<div>\n",
       "<table border=\"1\" class=\"dataframe\">\n",
       "  <thead>\n",
       "    <tr style=\"text-align: right;\">\n",
       "      <th></th>\n",
       "      <th>Wind</th>\n",
       "      <th>Water</th>\n",
       "      <th>Air</th>\n",
       "      <th>Forecast</th>\n",
       "      <th>Fish?</th>\n",
       "    </tr>\n",
       "  </thead>\n",
       "  <tbody>\n",
       "    <tr>\n",
       "      <th>0</th>\n",
       "      <td>Strong</td>\n",
       "      <td>Warm</td>\n",
       "      <td>Warm</td>\n",
       "      <td>Sunny</td>\n",
       "      <td>Yes</td>\n",
       "    </tr>\n",
       "    <tr>\n",
       "      <th>1</th>\n",
       "      <td>Weak</td>\n",
       "      <td>Warm</td>\n",
       "      <td>Warm</td>\n",
       "      <td>Sunny</td>\n",
       "      <td>No</td>\n",
       "    </tr>\n",
       "    <tr>\n",
       "      <th>2</th>\n",
       "      <td>Strong</td>\n",
       "      <td>Warm</td>\n",
       "      <td>Warm</td>\n",
       "      <td>Cloudy</td>\n",
       "      <td>Yes</td>\n",
       "    </tr>\n",
       "    <tr>\n",
       "      <th>3</th>\n",
       "      <td>Strong</td>\n",
       "      <td>Moderate</td>\n",
       "      <td>Warm</td>\n",
       "      <td>Rainy</td>\n",
       "      <td>Yes</td>\n",
       "    </tr>\n",
       "    <tr>\n",
       "      <th>4</th>\n",
       "      <td>Strong</td>\n",
       "      <td>Cold</td>\n",
       "      <td>Cool</td>\n",
       "      <td>Rainy</td>\n",
       "      <td>No</td>\n",
       "    </tr>\n",
       "    <tr>\n",
       "      <th>5</th>\n",
       "      <td>Weak</td>\n",
       "      <td>Cold</td>\n",
       "      <td>Cool</td>\n",
       "      <td>Rainy</td>\n",
       "      <td>No</td>\n",
       "    </tr>\n",
       "    <tr>\n",
       "      <th>6</th>\n",
       "      <td>Weak</td>\n",
       "      <td>Cold</td>\n",
       "      <td>Cool</td>\n",
       "      <td>Sunny</td>\n",
       "      <td>No</td>\n",
       "    </tr>\n",
       "    <tr>\n",
       "      <th>7</th>\n",
       "      <td>Strong</td>\n",
       "      <td>Moderate</td>\n",
       "      <td>Warm</td>\n",
       "      <td>Sunny</td>\n",
       "      <td>Yes</td>\n",
       "    </tr>\n",
       "    <tr>\n",
       "      <th>8</th>\n",
       "      <td>Strong</td>\n",
       "      <td>Cold</td>\n",
       "      <td>Cool</td>\n",
       "      <td>Sunny</td>\n",
       "      <td>Yes</td>\n",
       "    </tr>\n",
       "    <tr>\n",
       "      <th>9</th>\n",
       "      <td>Strong</td>\n",
       "      <td>Moderate</td>\n",
       "      <td>Cool</td>\n",
       "      <td>Rainy</td>\n",
       "      <td>No</td>\n",
       "    </tr>\n",
       "    <tr>\n",
       "      <th>10</th>\n",
       "      <td>Weak</td>\n",
       "      <td>Moderate</td>\n",
       "      <td>Cool</td>\n",
       "      <td>Sunny</td>\n",
       "      <td>Yes</td>\n",
       "    </tr>\n",
       "    <tr>\n",
       "      <th>11</th>\n",
       "      <td>Weak</td>\n",
       "      <td>Moderate</td>\n",
       "      <td>Warm</td>\n",
       "      <td>Sunny</td>\n",
       "      <td>Yes</td>\n",
       "    </tr>\n",
       "    <tr>\n",
       "      <th>12</th>\n",
       "      <td>Strong</td>\n",
       "      <td>Warm</td>\n",
       "      <td>Cool</td>\n",
       "      <td>Sunny</td>\n",
       "      <td>Yes</td>\n",
       "    </tr>\n",
       "    <tr>\n",
       "      <th>13</th>\n",
       "      <td>Weak</td>\n",
       "      <td>Moderate</td>\n",
       "      <td>Warm</td>\n",
       "      <td>Rainy</td>\n",
       "      <td>No</td>\n",
       "    </tr>\n",
       "    <tr>\n",
       "      <th>14</th>\n",
       "      <td>NaN</td>\n",
       "      <td>NaN</td>\n",
       "      <td>NaN</td>\n",
       "      <td>NaN</td>\n",
       "      <td>NaN</td>\n",
       "    </tr>\n",
       "    <tr>\n",
       "      <th>15</th>\n",
       "      <td>NaN</td>\n",
       "      <td>NaN</td>\n",
       "      <td>NaN</td>\n",
       "      <td>NaN</td>\n",
       "      <td>NaN</td>\n",
       "    </tr>\n",
       "    <tr>\n",
       "      <th>16</th>\n",
       "      <td>Test Data</td>\n",
       "      <td>NaN</td>\n",
       "      <td>NaN</td>\n",
       "      <td>NaN</td>\n",
       "      <td>NaN</td>\n",
       "    </tr>\n",
       "    <tr>\n",
       "      <th>17</th>\n",
       "      <td>NaN</td>\n",
       "      <td>NaN</td>\n",
       "      <td>NaN</td>\n",
       "      <td>NaN</td>\n",
       "      <td>NaN</td>\n",
       "    </tr>\n",
       "    <tr>\n",
       "      <th>18</th>\n",
       "      <td>Wind</td>\n",
       "      <td>Water</td>\n",
       "      <td>Air</td>\n",
       "      <td>Forecast</td>\n",
       "      <td>Fish?</td>\n",
       "    </tr>\n",
       "    <tr>\n",
       "      <th>19</th>\n",
       "      <td>Strong</td>\n",
       "      <td>Cold</td>\n",
       "      <td>Warm</td>\n",
       "      <td>Sunny</td>\n",
       "      <td>?</td>\n",
       "    </tr>\n",
       "  </tbody>\n",
       "</table>\n",
       "</div>"
      ],
      "text/plain": [
       "         Wind     Water   Air  Forecast  Fish?\n",
       "0      Strong      Warm  Warm     Sunny    Yes\n",
       "1        Weak      Warm  Warm     Sunny     No\n",
       "2      Strong      Warm  Warm    Cloudy    Yes\n",
       "3      Strong  Moderate  Warm     Rainy    Yes\n",
       "4      Strong      Cold  Cool     Rainy     No\n",
       "5        Weak      Cold  Cool     Rainy     No\n",
       "6        Weak      Cold  Cool     Sunny     No\n",
       "7      Strong  Moderate  Warm     Sunny    Yes\n",
       "8      Strong      Cold  Cool     Sunny    Yes\n",
       "9      Strong  Moderate  Cool     Rainy     No\n",
       "10       Weak  Moderate  Cool     Sunny    Yes\n",
       "11       Weak  Moderate  Warm     Sunny    Yes\n",
       "12     Strong      Warm  Cool     Sunny    Yes\n",
       "13       Weak  Moderate  Warm     Rainy     No\n",
       "14        NaN       NaN   NaN       NaN    NaN\n",
       "15        NaN       NaN   NaN       NaN    NaN\n",
       "16  Test Data       NaN   NaN       NaN    NaN\n",
       "17        NaN       NaN   NaN       NaN    NaN\n",
       "18       Wind     Water   Air  Forecast  Fish?\n",
       "19     Strong      Cold  Warm     Sunny      ?"
      ]
     },
     "execution_count": 70,
     "metadata": {},
     "output_type": "execute_result"
    }
   ],
   "source": [
    "fishing_df"
   ]
  },
  {
   "cell_type": "code",
   "execution_count": 69,
   "metadata": {
    "collapsed": false
   },
   "outputs": [
    {
     "data": {
      "text/plain": [
       "array([[ 0.53949203]])"
      ]
     },
     "execution_count": 69,
     "metadata": {},
     "output_type": "execute_result"
    }
   ],
   "source": [
    "FN.outcome(test)"
   ]
  },
  {
   "cell_type": "code",
   "execution_count": 21,
   "metadata": {
    "collapsed": false
   },
   "outputs": [
    {
     "data": {
      "image/png": "[encoded data removed]",
      "text/plain": [
       "<matplotlib.figure.Figure at 0x10c4b6278>"
      ]
     },
     "metadata": {},
     "output_type": "display_data"
    }
   ],
   "source": [
    "FN = NNW([4,6,1])\n",
    "FN.fit(fish_train, 0.01, 500,fish_test)"
   ]
  },
  {
   "cell_type": "code",
   "execution_count": 22,
   "metadata": {
    "collapsed": false
   },
   "outputs": [
    {
     "data": {
      "text/plain": [
       "(57.14285714285714, 57.14285714285714)"
      ]
     },
     "execution_count": 22,
     "metadata": {},
     "output_type": "execute_result"
    }
   ],
   "source": [
    "FN.accuracy(fish_train), FN.accuracy(fish_test)"
   ]
  },
  {
   "cell_type": "code",
   "execution_count": 80,
   "metadata": {
    "collapsed": false
   },
   "outputs": [],
   "source": [
    "game_df = pd.read_excel('gameData.xlsx' , skiprows = 2, header = 0)\n",
    "# Enumeric     \n",
    "game = game_df.replace(['Good', 'Fair', 'Poor', 'Yes', 'No'], [1.0, 2.0, 3.0, 4.0, 5.0])\n",
    "\n",
    "trainset = game.loc[0:21]\n",
    "testset = game.loc[26:30] \n",
    "\n",
    "#game\n",
    "game_X= trainset.ix[:,0:4]\n",
    "game_X = normalization(game_X)"
   ]
  },
  {
   "cell_type": "code",
   "execution_count": 81,
   "metadata": {
    "collapsed": false
   },
   "outputs": [
    {
     "data": {
      "text/html": [
       "<div>\n",
       "<table border=\"1\" class=\"dataframe\">\n",
       "  <thead>\n",
       "    <tr style=\"text-align: right;\">\n",
       "      <th></th>\n",
       "      <th>Health</th>\n",
       "      <th>Armor</th>\n",
       "      <th>Weapon</th>\n",
       "      <th># Enemies</th>\n",
       "    </tr>\n",
       "  </thead>\n",
       "  <tbody>\n",
       "    <tr>\n",
       "      <th>0</th>\n",
       "      <td>-0.386364</td>\n",
       "      <td>-0.590909</td>\n",
       "      <td>0.409091</td>\n",
       "      <td>-0.0909091</td>\n",
       "    </tr>\n",
       "    <tr>\n",
       "      <th>1</th>\n",
       "      <td>-0.386364</td>\n",
       "      <td>-0.590909</td>\n",
       "      <td>0.409091</td>\n",
       "      <td>0.159091</td>\n",
       "    </tr>\n",
       "    <tr>\n",
       "      <th>2</th>\n",
       "      <td>-0.386364</td>\n",
       "      <td>-0.590909</td>\n",
       "      <td>0.409091</td>\n",
       "      <td>0.409091</td>\n",
       "    </tr>\n",
       "    <tr>\n",
       "      <th>3</th>\n",
       "      <td>-0.386364</td>\n",
       "      <td>0.409091</td>\n",
       "      <td>-0.590909</td>\n",
       "      <td>-0.0909091</td>\n",
       "    </tr>\n",
       "    <tr>\n",
       "      <th>4</th>\n",
       "      <td>-0.386364</td>\n",
       "      <td>0.409091</td>\n",
       "      <td>-0.590909</td>\n",
       "      <td>0.159091</td>\n",
       "    </tr>\n",
       "    <tr>\n",
       "      <th>5</th>\n",
       "      <td>-0.386364</td>\n",
       "      <td>0.409091</td>\n",
       "      <td>-0.590909</td>\n",
       "      <td>0.409091</td>\n",
       "    </tr>\n",
       "    <tr>\n",
       "      <th>6</th>\n",
       "      <td>-0.386364</td>\n",
       "      <td>0.409091</td>\n",
       "      <td>0.409091</td>\n",
       "      <td>-0.340909</td>\n",
       "    </tr>\n",
       "    <tr>\n",
       "      <th>7</th>\n",
       "      <td>-0.386364</td>\n",
       "      <td>0.409091</td>\n",
       "      <td>0.409091</td>\n",
       "      <td>-0.0909091</td>\n",
       "    </tr>\n",
       "    <tr>\n",
       "      <th>8</th>\n",
       "      <td>-0.386364</td>\n",
       "      <td>-0.590909</td>\n",
       "      <td>-0.590909</td>\n",
       "      <td>0.159091</td>\n",
       "    </tr>\n",
       "    <tr>\n",
       "      <th>9</th>\n",
       "      <td>0.113636</td>\n",
       "      <td>-0.590909</td>\n",
       "      <td>-0.590909</td>\n",
       "      <td>-0.0909091</td>\n",
       "    </tr>\n",
       "    <tr>\n",
       "      <th>10</th>\n",
       "      <td>0.113636</td>\n",
       "      <td>0.409091</td>\n",
       "      <td>-0.590909</td>\n",
       "      <td>-0.0909091</td>\n",
       "    </tr>\n",
       "    <tr>\n",
       "      <th>11</th>\n",
       "      <td>0.113636</td>\n",
       "      <td>0.409091</td>\n",
       "      <td>-0.590909</td>\n",
       "      <td>0.159091</td>\n",
       "    </tr>\n",
       "    <tr>\n",
       "      <th>12</th>\n",
       "      <td>0.113636</td>\n",
       "      <td>0.409091</td>\n",
       "      <td>-0.590909</td>\n",
       "      <td>0.659091</td>\n",
       "    </tr>\n",
       "    <tr>\n",
       "      <th>13</th>\n",
       "      <td>0.113636</td>\n",
       "      <td>-0.590909</td>\n",
       "      <td>0.409091</td>\n",
       "      <td>-0.340909</td>\n",
       "    </tr>\n",
       "    <tr>\n",
       "      <th>14</th>\n",
       "      <td>0.113636</td>\n",
       "      <td>0.409091</td>\n",
       "      <td>0.409091</td>\n",
       "      <td>-0.340909</td>\n",
       "    </tr>\n",
       "    <tr>\n",
       "      <th>15</th>\n",
       "      <td>0.113636</td>\n",
       "      <td>-0.590909</td>\n",
       "      <td>0.409091</td>\n",
       "      <td>-0.0909091</td>\n",
       "    </tr>\n",
       "    <tr>\n",
       "      <th>16</th>\n",
       "      <td>0.113636</td>\n",
       "      <td>0.409091</td>\n",
       "      <td>0.409091</td>\n",
       "      <td>-0.0909091</td>\n",
       "    </tr>\n",
       "    <tr>\n",
       "      <th>17</th>\n",
       "      <td>0.113636</td>\n",
       "      <td>-0.590909</td>\n",
       "      <td>0.409091</td>\n",
       "      <td>0.159091</td>\n",
       "    </tr>\n",
       "    <tr>\n",
       "      <th>18</th>\n",
       "      <td>0.613636</td>\n",
       "      <td>0.409091</td>\n",
       "      <td>-0.590909</td>\n",
       "      <td>-0.0909091</td>\n",
       "    </tr>\n",
       "    <tr>\n",
       "      <th>19</th>\n",
       "      <td>0.613636</td>\n",
       "      <td>0.409091</td>\n",
       "      <td>0.409091</td>\n",
       "      <td>-0.340909</td>\n",
       "    </tr>\n",
       "    <tr>\n",
       "      <th>20</th>\n",
       "      <td>0.613636</td>\n",
       "      <td>-0.590909</td>\n",
       "      <td>0.409091</td>\n",
       "      <td>-0.0909091</td>\n",
       "    </tr>\n",
       "    <tr>\n",
       "      <th>21</th>\n",
       "      <td>0.613636</td>\n",
       "      <td>0.409091</td>\n",
       "      <td>0.409091</td>\n",
       "      <td>-0.0909091</td>\n",
       "    </tr>\n",
       "  </tbody>\n",
       "</table>\n",
       "</div>"
      ],
      "text/plain": [
       "      Health     Armor    Weapon  # Enemies\n",
       "0  -0.386364 -0.590909  0.409091 -0.0909091\n",
       "1  -0.386364 -0.590909  0.409091   0.159091\n",
       "2  -0.386364 -0.590909  0.409091   0.409091\n",
       "3  -0.386364  0.409091 -0.590909 -0.0909091\n",
       "4  -0.386364  0.409091 -0.590909   0.159091\n",
       "5  -0.386364  0.409091 -0.590909   0.409091\n",
       "6  -0.386364  0.409091  0.409091  -0.340909\n",
       "7  -0.386364  0.409091  0.409091 -0.0909091\n",
       "8  -0.386364 -0.590909 -0.590909   0.159091\n",
       "9   0.113636 -0.590909 -0.590909 -0.0909091\n",
       "10  0.113636  0.409091 -0.590909 -0.0909091\n",
       "11  0.113636  0.409091 -0.590909   0.159091\n",
       "12  0.113636  0.409091 -0.590909   0.659091\n",
       "13  0.113636 -0.590909  0.409091  -0.340909\n",
       "14  0.113636  0.409091  0.409091  -0.340909\n",
       "15  0.113636 -0.590909  0.409091 -0.0909091\n",
       "16  0.113636  0.409091  0.409091 -0.0909091\n",
       "17  0.113636 -0.590909  0.409091   0.159091\n",
       "18  0.613636  0.409091 -0.590909 -0.0909091\n",
       "19  0.613636  0.409091  0.409091  -0.340909\n",
       "20  0.613636 -0.590909  0.409091 -0.0909091\n",
       "21  0.613636  0.409091  0.409091 -0.0909091"
      ]
     },
     "execution_count": 81,
     "metadata": {},
     "output_type": "execute_result"
    }
   ],
   "source": [
    "game_X"
   ]
  },
  {
   "cell_type": "code",
   "execution_count": 93,
   "metadata": {
    "collapsed": false
   },
   "outputs": [],
   "source": [
    "# there are four outputs: 0--Attact, 1--Run, 2--Wander, 3--Hide, use \n",
    "#(1,0,0,0),(0,1,0,0,),(0,0,1,0),(0,0,0,1)to represent respectively.\n",
    "game_X = np.array(game_X).astype(np.float32)\n",
    "datalen = trainset['Action'].shape[0]\n",
    "game_Y = np.zeros((datalen,4),dtype = 'float32')\n",
    "for i in range(datalen):\n",
    "    if trainset['Action'][i]==\"Attact\":\n",
    "        game_Y[i][0]=1\n",
    "    elif trainset['Action'][i]==\"Run\":\n",
    "        game_Y[i][1]=1\n",
    "    elif trainset['Action'][i]==\"Wander\":\n",
    "        game_Y[i][2]=1\n",
    "    elif trainset['Action'][i]==\"Hide\":\n",
    "        game_Y[i][3]=1\n",
    "game_Y = np.array(game_Y)"
   ]
  },
  {
   "cell_type": "code",
   "execution_count": 94,
   "metadata": {
    "collapsed": false
   },
   "outputs": [],
   "source": [
    "gameset = zip(game_X,game_Y)\n",
    "gameset = list(gameset)\n",
    "game_train, game_test = splitData(gameset, 0.6)"
   ]
  },
  {
   "cell_type": "code",
   "execution_count": 95,
   "metadata": {
    "collapsed": false
   },
   "outputs": [],
   "source": [
    "gameNN = NNW([4, 8, 4])"
   ]
  },
  {
   "cell_type": "code",
   "execution_count": 111,
   "metadata": {
    "collapsed": false
   },
   "outputs": [
    {
     "data": {
      "image/png": "[encoded data removed]",
      "text/plain": [
       "<matplotlib.figure.Figure at 0x10c12ac50>"
      ]
     },
     "metadata": {},
     "output_type": "display_data"
    }
   ],
   "source": [
    "gameNN.fit(game_train,0.1, 100, game_test)"
   ]
  },
  {
   "cell_type": "code",
   "execution_count": 112,
   "metadata": {
    "collapsed": false
   },
   "outputs": [
    {
     "data": {
      "text/plain": [
       "(69.23076923076923, 22.22222222222222)"
      ]
     },
     "execution_count": 112,
     "metadata": {},
     "output_type": "execute_result"
    }
   ],
   "source": [
    "gameNN.accuracy(game_train), gameNN.accuracy(game_test)"
   ]
  },
  {
   "cell_type": "code",
   "execution_count": 98,
   "metadata": {
    "collapsed": false
   },
   "outputs": [
    {
     "data": {
      "image/png": "[encoded data removed]",
      "text/plain": [
       "<matplotlib.figure.Figure at 0x108b3e4e0>"
      ]
     },
     "metadata": {},
     "output_type": "display_data"
    }
   ],
   "source": [
    "gameNN = NNW([4, 10, 4])\n",
    "gameNN.fit(game_train,0.1, 100, game_test)"
   ]
  },
  {
   "cell_type": "code",
   "execution_count": 99,
   "metadata": {
    "collapsed": false
   },
   "outputs": [
    {
     "data": {
      "text/plain": [
       "(38.46153846153847, 11.11111111111111)"
      ]
     },
     "execution_count": 99,
     "metadata": {},
     "output_type": "execute_result"
    }
   ],
   "source": [
    "gameNN.accuracy(game_train), gameNN.accuracy(game_test)"
   ]
  },
  {
   "cell_type": "markdown",
   "metadata": {
    "collapsed": false
   },
   "source": [
    "Try wine dataset\n",
    "-- The attributes are (dontated by Riccardo Leardi, \n",
    "\triclea@anchem.unige.it )\n",
    " \t1) Alcohol\n",
    " \t2) Malic acid\n",
    " \t3) Ash\n",
    "\t4) Alcalinity of ash  \n",
    " \t5) Magnesium\n",
    "\t6) Total phenols\n",
    " \t7) Flavanoids\n",
    " \t8) Nonflavanoid phenols\n",
    " \t9) Proanthocyanins\n",
    "\t10)Color intensity\n",
    " \t11)Hue\n",
    " \t12)OD280/OD315 of diluted wines\n",
    " \t13)Proline            \n",
    "\n",
    "5. Number of Instances\n",
    "\tclass 1 59\n",
    "\tclass 2 71\n",
    "\tclass 3 48\n"
   ]
  },
  {
   "cell_type": "code",
   "execution_count": 33,
   "metadata": {
    "collapsed": false
   },
   "outputs": [
    {
     "data": {
      "text/html": [
       "<div>\n",
       "<table border=\"1\" class=\"dataframe\">\n",
       "  <thead>\n",
       "    <tr style=\"text-align: right;\">\n",
       "      <th></th>\n",
       "      <th>0</th>\n",
       "      <th>1</th>\n",
       "      <th>2</th>\n",
       "      <th>3</th>\n",
       "      <th>4</th>\n",
       "      <th>5</th>\n",
       "      <th>6</th>\n",
       "      <th>7</th>\n",
       "      <th>8</th>\n",
       "      <th>9</th>\n",
       "      <th>10</th>\n",
       "      <th>11</th>\n",
       "      <th>12</th>\n",
       "      <th>13</th>\n",
       "    </tr>\n",
       "  </thead>\n",
       "  <tbody>\n",
       "    <tr>\n",
       "      <th>0</th>\n",
       "      <td>1</td>\n",
       "      <td>14.23</td>\n",
       "      <td>1.71</td>\n",
       "      <td>2.43</td>\n",
       "      <td>15.6</td>\n",
       "      <td>127</td>\n",
       "      <td>2.80</td>\n",
       "      <td>3.06</td>\n",
       "      <td>0.28</td>\n",
       "      <td>2.29</td>\n",
       "      <td>5.64</td>\n",
       "      <td>1.04</td>\n",
       "      <td>3.92</td>\n",
       "      <td>1065</td>\n",
       "    </tr>\n",
       "    <tr>\n",
       "      <th>1</th>\n",
       "      <td>1</td>\n",
       "      <td>13.20</td>\n",
       "      <td>1.78</td>\n",
       "      <td>2.14</td>\n",
       "      <td>11.2</td>\n",
       "      <td>100</td>\n",
       "      <td>2.65</td>\n",
       "      <td>2.76</td>\n",
       "      <td>0.26</td>\n",
       "      <td>1.28</td>\n",
       "      <td>4.38</td>\n",
       "      <td>1.05</td>\n",
       "      <td>3.40</td>\n",
       "      <td>1050</td>\n",
       "    </tr>\n",
       "    <tr>\n",
       "      <th>2</th>\n",
       "      <td>1</td>\n",
       "      <td>13.16</td>\n",
       "      <td>2.36</td>\n",
       "      <td>2.67</td>\n",
       "      <td>18.6</td>\n",
       "      <td>101</td>\n",
       "      <td>2.80</td>\n",
       "      <td>3.24</td>\n",
       "      <td>0.30</td>\n",
       "      <td>2.81</td>\n",
       "      <td>5.68</td>\n",
       "      <td>1.03</td>\n",
       "      <td>3.17</td>\n",
       "      <td>1185</td>\n",
       "    </tr>\n",
       "    <tr>\n",
       "      <th>3</th>\n",
       "      <td>1</td>\n",
       "      <td>14.37</td>\n",
       "      <td>1.95</td>\n",
       "      <td>2.50</td>\n",
       "      <td>16.8</td>\n",
       "      <td>113</td>\n",
       "      <td>3.85</td>\n",
       "      <td>3.49</td>\n",
       "      <td>0.24</td>\n",
       "      <td>2.18</td>\n",
       "      <td>7.80</td>\n",
       "      <td>0.86</td>\n",
       "      <td>3.45</td>\n",
       "      <td>1480</td>\n",
       "    </tr>\n",
       "    <tr>\n",
       "      <th>4</th>\n",
       "      <td>1</td>\n",
       "      <td>13.24</td>\n",
       "      <td>2.59</td>\n",
       "      <td>2.87</td>\n",
       "      <td>21.0</td>\n",
       "      <td>118</td>\n",
       "      <td>2.80</td>\n",
       "      <td>2.69</td>\n",
       "      <td>0.39</td>\n",
       "      <td>1.82</td>\n",
       "      <td>4.32</td>\n",
       "      <td>1.04</td>\n",
       "      <td>2.93</td>\n",
       "      <td>735</td>\n",
       "    </tr>\n",
       "  </tbody>\n",
       "</table>\n",
       "</div>"
      ],
      "text/plain": [
       "   0      1     2     3     4    5     6     7     8     9     10    11    12  \\\n",
       "0   1  14.23  1.71  2.43  15.6  127  2.80  3.06  0.28  2.29  5.64  1.04  3.92   \n",
       "1   1  13.20  1.78  2.14  11.2  100  2.65  2.76  0.26  1.28  4.38  1.05  3.40   \n",
       "2   1  13.16  2.36  2.67  18.6  101  2.80  3.24  0.30  2.81  5.68  1.03  3.17   \n",
       "3   1  14.37  1.95  2.50  16.8  113  3.85  3.49  0.24  2.18  7.80  0.86  3.45   \n",
       "4   1  13.24  2.59  2.87  21.0  118  2.80  2.69  0.39  1.82  4.32  1.04  2.93   \n",
       "\n",
       "     13  \n",
       "0  1065  \n",
       "1  1050  \n",
       "2  1185  \n",
       "3  1480  \n",
       "4   735  "
      ]
     },
     "execution_count": 33,
     "metadata": {},
     "output_type": "execute_result"
    }
   ],
   "source": [
    "wine_df = pd.read_csv('http://archive.ics.uci.edu/ml/machine-learning-databases/wine/wine.data',header = None)\n",
    "#wine_df\n",
    "wine_df.head()"
   ]
  },
  {
   "cell_type": "code",
   "execution_count": 57,
   "metadata": {
    "collapsed": true
   },
   "outputs": [],
   "source": [
    "# Data without normalization:\n",
    "\n",
    "wine_X= wine_df.ix[:,1:13]\n",
    "wine_X = np.array(wine_X).astype(np.float32)\n",
    "\n",
    "datalen = iris_df[0].shape[0]\n",
    "wine_Y = np.zeros((datalen,3),dtype = 'float32')\n",
    "\n",
    "for i in range(datalen):\n",
    "    if wine_df[0][i]==1:\n",
    "        wine_Y[i][0]=1\n",
    "    elif wine_df[0][i]==2:\n",
    "        wine_Y[i][1]=1\n",
    "    elif iris_df[0][i]==3:\n",
    "        wine_Y[i][2]=1\n",
    "\n",
    "wine_Y = np.array(wine_Y)\n",
    "\n",
    "wineset = zip(wine_X,wine_Y)\n",
    "wineset = list(wineset)\n",
    "\n",
    "#split training and test sets\n",
    "wine_train, wine_test = splitData(wineset, 0.6)"
   ]
  },
  {
   "cell_type": "code",
   "execution_count": 58,
   "metadata": {
    "collapsed": false
   },
   "outputs": [
    {
     "data": {
      "image/png": "[encoded data removed]",
      "text/plain": [
       "<matplotlib.figure.Figure at 0x10c1892e8>"
      ]
     },
     "metadata": {},
     "output_type": "display_data"
    }
   ],
   "source": [
    "wineNN = NNW([13,6,3])\n",
    "wineNN.fit(wine_train, 0.02, 400, wine_test)"
   ]
  },
  {
   "cell_type": "code",
   "execution_count": 60,
   "metadata": {
    "collapsed": false
   },
   "outputs": [
    {
     "data": {
      "text/plain": [
       "(57.77777777777777, 45.0)"
      ]
     },
     "execution_count": 60,
     "metadata": {},
     "output_type": "execute_result"
    }
   ],
   "source": [
    "wineNN.accuracy(wine_train), wineNN.accuracy(wine_test)"
   ]
  },
  {
   "cell_type": "code",
   "execution_count": 79,
   "metadata": {
    "collapsed": true
   },
   "outputs": [],
   "source": [
    "def normalization(df):\n",
    "    df = (df - df.mean()) / (df.max() - df.min())\n",
    "    return df"
   ]
  },
  {
   "cell_type": "code",
   "execution_count": 61,
   "metadata": {
    "collapsed": true
   },
   "outputs": [],
   "source": [
    "# Normalize the dataset\n",
    "\n",
    "wine_X= wine_df.ix[:,1:13]\n",
    "wine_X = np.array(wine_X).astype(np.float32)\n",
    "\n",
    "#Normalize\n",
    "wine_X = normalization(wine_X)\n",
    "\n",
    "datalen = iris_df[0].shape[0]\n",
    "wine_Y = np.zeros((datalen,3),dtype = 'float32')\n",
    "\n",
    "for i in range(datalen):\n",
    "    if wine_df[0][i]==1:\n",
    "        wine_Y[i][0]=1\n",
    "    elif wine_df[0][i]==2:\n",
    "        wine_Y[i][1]=1\n",
    "    elif iris_df[0][i]==3:\n",
    "        wine_Y[i][2]=1\n",
    "\n",
    "wine_Y = np.array(wine_Y)\n",
    "\n",
    "wineset = zip(wine_X,wine_Y)\n",
    "wineset = list(wineset)\n",
    "\n",
    "#split training and test sets\n",
    "wine_train, wine_test = splitData(wineset, 0.6)"
   ]
  },
  {
   "cell_type": "code",
   "execution_count": 62,
   "metadata": {
    "collapsed": false
   },
   "outputs": [
    {
     "data": {
      "image/png": "[encoded data removed]",
      "text/plain": [
       "<matplotlib.figure.Figure at 0x108aa7978>"
      ]
     },
     "metadata": {},
     "output_type": "display_data"
    }
   ],
   "source": [
    "wineNN = NNW([13,6,3])\n",
    "wineNN.fit(wine_train, 0.02, 400, wine_test)"
   ]
  },
  {
   "cell_type": "code",
   "execution_count": 63,
   "metadata": {
    "collapsed": false
   },
   "outputs": [
    {
     "data": {
      "text/plain": [
       "(85.55555555555556, 76.66666666666667)"
      ]
     },
     "execution_count": 63,
     "metadata": {},
     "output_type": "execute_result"
    }
   ],
   "source": [
    "wineNN.accuracy(wine_train), wineNN.accuracy(wine_test)"
   ]
  },
  {
   "cell_type": "code",
   "execution_count": 64,
   "metadata": {
    "collapsed": false
   },
   "outputs": [
    {
     "data": {
      "image/png": "[encoded data removed]",
      "text/plain": [
       "<matplotlib.figure.Figure at 0x10ca17358>"
      ]
     },
     "metadata": {},
     "output_type": "display_data"
    }
   ],
   "source": [
    "wineNN = NNW([13,8,3])\n",
    "wineNN.fit(wine_train, 0.02, 600, wine_test)"
   ]
  },
  {
   "cell_type": "code",
   "execution_count": 65,
   "metadata": {
    "collapsed": false
   },
   "outputs": [
    {
     "data": {
      "text/plain": [
       "(88.88888888888889, 76.66666666666667)"
      ]
     },
     "execution_count": 65,
     "metadata": {},
     "output_type": "execute_result"
    }
   ],
   "source": [
    "wineNN.accuracy(wine_train), wineNN.accuracy(wine_test)"
   ]
  },
  {
   "cell_type": "raw",
   "metadata": {},
   "source": []
  },
  {
   "cell_type": "markdown",
   "metadata": {},
   "source": [
    "# Discussion"
   ]
  },
  {
   "cell_type": "markdown",
   "metadata": {},
   "source": [
    "This project tried to construct the neural networks and tried find out the factors that will give the best results.\n",
    "\n",
    "First of all, we can see the training data size affect the results significantly. As we see, once the weights initialled, they need to adjust after lots of trainning. If the training size is too small, increase the hidden nodes might decrease the training cost but also cause overfittig.\n",
    "\n",
    "Secondly, the activation value after first hidden node would fall between (0,1), if the initial weights are too large or too small then most neurons would become saturated and the network might barely learn.\n",
    "\n",
    "Thirdly, this project use online learning, updating the weights instantaneously after every sample. It might not very ideal for very large dataset since it takes longer time to train.\n",
    "\n",
    "Forthly, the learning rate needs to adjust for different cases, which can tell from the cost curve.\n",
    "\n",
    "Finally, if the training data has large range then normalization would help to improve the accuracy."
   ]
  }
 ],
 "metadata": {
  "kernelspec": {
   "display_name": "Python 3",
   "language": "python",
   "name": "python3"
  },
  "language_info": {
   "codemirror_mode": {
    "name": "ipython",
    "version": 3
   },
   "file_extension": ".py",
   "mimetype": "text/x-python",
   "name": "python",
   "nbconvert_exporter": "python",
   "pygments_lexer": "ipython3",
   "version": "3.5.1"
  }
 },
 "nbformat": 4,
 "nbformat_minor": 0
}
