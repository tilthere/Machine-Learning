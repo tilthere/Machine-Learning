{
 "cells": [
  {
   "cell_type": "code",
   "execution_count": 1,
   "metadata": {
    "collapsed": true
   },
   "outputs": [],
   "source": [
    "import numpy as np\n",
    "import math\n",
    "import matplotlib.pyplot as plt\n",
    "import pandas as pd\n",
    "%matplotlib inline"
   ]
  },
  {
   "cell_type": "code",
   "execution_count": 2,
   "metadata": {
    "collapsed": true
   },
   "outputs": [],
   "source": [
    "# sigmoid function\n",
    "def sigmoid(x):\n",
    "    return 1/(1+np.exp(-x))\n",
    "\n",
    "def sigmoidPrime(x):\n",
    "    return sigmoid(x)*(1-sigmoid(x))"
   ]
  },
  {
   "cell_type": "code",
   "execution_count": 3,
   "metadata": {
    "collapsed": false
   },
   "outputs": [
    {
     "data": {
      "text/plain": [
       "[<matplotlib.lines.Line2D at 0x10bc38c18>]"
      ]
     },
     "execution_count": 3,
     "metadata": {},
     "output_type": "execute_result"
    },
    {
     "data": {
      "image/png": "[encoded data removed]",
      "text/plain": [
       "<matplotlib.figure.Figure at 0x10bc38c50>"
      ]
     },
     "metadata": {},
     "output_type": "display_data"
    }
   ],
   "source": [
    "X = np.linspace(-10, 10, 256, endpoint=True)\n",
    "C,S = sigmoid(X), sigmoidPrime(X)\n",
    "plt.plot(X,C)\n",
    "plt.plot(X,S)"
   ]
  },
  {
   "cell_type": "code",
   "execution_count": 4,
   "metadata": {
    "collapsed": true
   },
   "outputs": [],
   "source": [
    "# I will interpret the one node output >= 0.5 as 1(Yes), < 0.5 as 0(No)\n",
    "# Analyse our dataset, I will start with gameData:\n"
   ]
  },
  {
   "cell_type": "code",
   "execution_count": 5,
   "metadata": {
    "collapsed": false
   },
   "outputs": [],
   "source": [
    "game_df = pd.read_excel('gameData.xlsx' , skiprows = 2, header = 0)\n",
    "# Enumeric     \n",
    "game = game_df.replace(['Good', 'Fair', 'Poor', 'Yes', 'No'], [1, 2, 3, 4, 5])\n",
    "\n",
    "trainset = game.loc[0:21]\n",
    "testset = game.loc[26:30] \n",
    "\n",
    "#game\n",
    "train_X= trainset.ix[:,0:4]\n",
    "train_X = np.matrix(train_X).astype(np.float32)"
   ]
  },
  {
   "cell_type": "code",
   "execution_count": 6,
   "metadata": {
    "collapsed": false
   },
   "outputs": [],
   "source": [
    "#game"
   ]
  },
  {
   "cell_type": "code",
   "execution_count": 7,
   "metadata": {
    "collapsed": false
   },
   "outputs": [],
   "source": [
    "# there are four outputs: 0--Attact, 1--Run, 2--Wander, 3--Hide, use \n",
    "#(1,0,0,0),(0,1,0,0,),(0,0,1,0),(0,0,0,1)to represent respectively.\n",
    "datalen = trainset['Action'].shape[0]\n",
    "train_Y = np.zeros((datalen,4),dtype = 'float32')"
   ]
  },
  {
   "cell_type": "code",
   "execution_count": 8,
   "metadata": {
    "collapsed": false
   },
   "outputs": [],
   "source": [
    "for i in range(datalen):\n",
    "    if trainset['Action'][i]==\"Attact\":\n",
    "        train_Y[i][0]=1\n",
    "    elif trainset['Action'][i]==\"Run\":\n",
    "        train_Y[i][1]=1\n",
    "    elif trainset['Action'][i]==\"Wander\":\n",
    "        train_Y[i][2]=1\n",
    "    elif trainset['Action'][i]==\"Hide\":\n",
    "        train_Y[i][3]=1\n",
    "train_Y = np.matrix(train_Y)"
   ]
  },
  {
   "cell_type": "code",
   "execution_count": 9,
   "metadata": {
    "collapsed": false
   },
   "outputs": [],
   "source": [
    "#train_Y"
   ]
  },
  {
   "cell_type": "code",
   "execution_count": 10,
   "metadata": {
    "collapsed": false
   },
   "outputs": [
    {
     "data": {
      "text/plain": [
       "matrix([[ 0.],\n",
       "        [ 1.],\n",
       "        [ 0.],\n",
       "        [ 0.]], dtype=float32)"
      ]
     },
     "execution_count": 10,
     "metadata": {},
     "output_type": "execute_result"
    }
   ],
   "source": [
    "train_Y[1].T"
   ]
  },
  {
   "cell_type": "code",
   "execution_count": 102,
   "metadata": {
    "collapsed": false
   },
   "outputs": [
    {
     "data": {
      "text/plain": [
       "(matrix([[ 1.,  4.,  5.,  2.]], dtype=float32),\n",
       " matrix([[ 0.,  1.,  0.,  0.]], dtype=float32))"
      ]
     },
     "execution_count": 102,
     "metadata": {},
     "output_type": "execute_result"
    }
   ],
   "source": [
    "train = zip(train_X,train_Y)\n",
    "train = list(train)\n",
    "train[1]"
   ]
  },
  {
   "cell_type": "code",
   "execution_count": 12,
   "metadata": {
    "collapsed": true
   },
   "outputs": [],
   "source": [
    "def splitData(dataset,percentage):    # randomly split the dataset by percentage\n",
    "    np.random.shuffle(dataset)\n",
    "    n = int(round(len(dataset)*percentage))\n",
    "    trainset = dataset[:n]\n",
    "    testset = dataset[n:]\n",
    "    return trainset, testset"
   ]
  },
  {
   "cell_type": "code",
   "execution_count": 13,
   "metadata": {
    "collapsed": true
   },
   "outputs": [],
   "source": [
    "# The aim is to find the weights and biases which make the cost as small as possible.\n",
    "# Cost = 1/2*(t-y)**2"
   ]
  },
  {
   "cell_type": "code",
   "execution_count": 14,
   "metadata": {
    "collapsed": true
   },
   "outputs": [],
   "source": [
    "layers = [4, 3, 4]; #setup layers"
   ]
  },
  {
   "cell_type": "code",
   "execution_count": 103,
   "metadata": {
    "collapsed": false
   },
   "outputs": [],
   "source": [
    "# A0 = inputNode   -- 4 nodes here\n",
    "# Z1 = W1 * A0 + bias1    -- 3 nodes, 3 bias values, 3 * 4 weights\n",
    "# A1 = sigmoid(Z1) ...\n",
    "# Z2 = W2 * A1 + bias2    -- 4 nodes, 4 bias values, 4 * 4 weights\n",
    "# output = A2 = sigmoid(Z2)\n",
    "\n",
    "#initialize weights\n",
    "weights = [np.random.randn(y, x) for x, y in zip(layers[:-1], layers[1:])]\n",
    "\n",
    "#initialize bias\n",
    "bias = [np.random.randn(y, 1) for y in layers[1:]]"
   ]
  },
  {
   "cell_type": "code",
   "execution_count": 104,
   "metadata": {
    "collapsed": false
   },
   "outputs": [
    {
     "data": {
      "text/plain": [
       "(array([[ 2.37816277, -0.29695   ,  1.20244774,  1.39444185],\n",
       "        [ 0.67323576, -0.12835038,  1.85705288, -0.1418754 ],\n",
       "        [-0.82414668,  1.8451888 ,  0.40567743, -0.55333692]]),\n",
       " array([[-0.53789438],\n",
       "        [ 0.72424581],\n",
       "        [-0.19653951]]))"
      ]
     },
     "execution_count": 104,
     "metadata": {},
     "output_type": "execute_result"
    }
   ],
   "source": [
    " weights[0],bias[0]"
   ]
  },
  {
   "cell_type": "code",
   "execution_count": 105,
   "metadata": {
    "collapsed": false
   },
   "outputs": [
    {
     "data": {
      "text/plain": [
       "matrix([[ 0.],\n",
       "        [ 1.],\n",
       "        [ 0.],\n",
       "        [ 0.]], dtype=float32)"
      ]
     },
     "execution_count": 105,
     "metadata": {},
     "output_type": "execute_result"
    }
   ],
   "source": [
    "# forward the input to output, store every value in each layer\n",
    "inputs = train_X[1].T   \n",
    "a = inputs     # a[0] = inputs\n",
    "alist = [] \n",
    "alist.append(a)\n",
    "zlist = [] \n",
    "for b, w in zip(bias, weights):\n",
    "    z = np.dot(w, a)+b\n",
    "    zlist.append(z)\n",
    "    a = sigmoid(z)\n",
    "    alist.append(a)\n",
    "    \n",
    "outputs = alist[-1]      # outcomes of 4 nodes\n",
    "t = train_Y[1].T           # target\n",
    "t"
   ]
  },
  {
   "cell_type": "code",
   "execution_count": 106,
   "metadata": {
    "collapsed": false
   },
   "outputs": [
    {
     "data": {
      "text/plain": [
       "False"
      ]
     },
     "execution_count": 106,
     "metadata": {},
     "output_type": "execute_result"
    }
   ],
   "source": [
    "predict = np.argmax(outputs)       #  the higest value index, 1 means 1--Run\n",
    "predict==np.argmax(train_Y[1])"
   ]
  },
  {
   "cell_type": "code",
   "execution_count": 109,
   "metadata": {
    "collapsed": false
   },
   "outputs": [
    {
     "data": {
      "text/plain": [
       "matrix([[ 0.61965251],\n",
       "        [ 0.32969076],\n",
       "        [ 0.2955792 ],\n",
       "        [ 0.18743095]])"
      ]
     },
     "execution_count": 109,
     "metadata": {},
     "output_type": "execute_result"
    }
   ],
   "source": [
    "#For each output unit j, calculate the error: E_j = (t - outputs)*outputs*(1-outputs)\n",
    "\n",
    "#For each hidden unit i, calculate the error: E_i = a(1-a)*sum(W*E)\n",
    "outputs "
   ]
  },
  {
   "cell_type": "code",
   "execution_count": 107,
   "metadata": {
    "collapsed": false
   },
   "outputs": [
    {
     "data": {
      "text/plain": [
       "array([[ 0.19198462],\n",
       "       [ 0.22465724],\n",
       "       [ 0.04368353],\n",
       "       [ 0.01756518]])"
      ]
     },
     "execution_count": 107,
     "metadata": {},
     "output_type": "execute_result"
    }
   ],
   "source": [
    "E1 = 0.5 * np.array((outputs - t)) ** 2\n",
    "E1"
   ]
  },
  {
   "cell_type": "code",
   "execution_count": 114,
   "metadata": {
    "collapsed": false
   },
   "outputs": [],
   "source": [
    "# Error Backpropagation\n",
    "# partial cost: (a - t)* sigmoidPrime(z)\n",
    "delta_b = [np.zeros(b.shape) for b in bias]\n",
    "delta_w = [np.zeros(b.shape) for b in weights]\n",
    "delta1 = (np.array(alist[-1]) - np.array(t)) * sigmoidPrime(np.array(zlist[-1]))\n",
    "delta_b[-1] = delta1\n",
    "delta_w[-1] = np.dot(delta1, np.array(alist[-2].T))\n",
    "delta2 = np.dot(weights[-1].T, delta1) * sigmoidPrime(np.array(zlist[-2]))\n",
    "delta_b[-2] = delta2\n",
    "delta_w[-2] = np.dot(delta2, np.array(alist[-3].T))"
   ]
  },
  {
   "cell_type": "code",
   "execution_count": 115,
   "metadata": {
    "collapsed": false
   },
   "outputs": [
    {
     "data": {
      "text/plain": [
       "array([[ 0.61965251],\n",
       "       [-0.67030924],\n",
       "       [ 0.2955792 ],\n",
       "       [ 0.18743095]])"
      ]
     },
     "execution_count": 115,
     "metadata": {},
     "output_type": "execute_result"
    }
   ],
   "source": [
    "delta_b[-1]"
   ]
  },
  {
   "cell_type": "code",
   "execution_count": 116,
   "metadata": {
    "collapsed": false
   },
   "outputs": [],
   "source": [
    "# Update the weights and bias \n",
    "eta = 0.01     # learning rate\n",
    "bias = [b - eta*dta_b for b ,dta_b in zip(bias, delta_b)]\n",
    "weights = [b - eta*dta_w for b ,dta_w in zip(weights, delta_w)]"
   ]
  },
  {
   "cell_type": "code",
   "execution_count": 113,
   "metadata": {
    "collapsed": false
   },
   "outputs": [
    {
     "data": {
      "text/plain": [
       "array([[ 0.61965251],\n",
       "       [-0.67030924],\n",
       "       [ 0.2955792 ],\n",
       "       [ 0.18743095]])"
      ]
     },
     "execution_count": 113,
     "metadata": {},
     "output_type": "execute_result"
    }
   ],
   "source": [
    "np.array(alist[-1]) - np.array(t"
   ]
  },
  {
   "cell_type": "code",
   "execution_count": 25,
   "metadata": {
    "collapsed": false
   },
   "outputs": [],
   "source": [
    "# weights      # updated weights"
   ]
  },
  {
   "cell_type": "code",
   "execution_count": 153,
   "metadata": {
    "collapsed": false
   },
   "outputs": [],
   "source": [
    "# forward again and repeat \n",
    "# Now wrapping all functions above together as a class NNW\n",
    "\n",
    "class NNW(object):\n",
    "    def __init__(self, layers):\n",
    "        self.weights = [np.random.randn(y, x) for x, y in zip(layers[:-1], layers[1:])]\n",
    "        self.bias = [np.random.randn(y, 1) for y in layers[1:]]\n",
    "        self.w = []\n",
    "        for i in range(1, len(layers) - 1):\n",
    "            self.w.append((2*np.random.random((layers[i - 1] + 1, layers[i]\n",
    "                                + 1))-1)*0.25)\n",
    "        self.w.append((2*np.random.random((layers[i] + 1, layers[i +\n",
    "                            1]))-1)*0.25)\n",
    "        \n",
    "    def forwardAll(self, x):\n",
    "        inputs = x.T   \n",
    "        a = inputs     # a[0] = inputs\n",
    "        alist = [] \n",
    "        alist.append(a)\n",
    "        zlist = [] \n",
    "        for b, w in zip(self.bias, self.weights):\n",
    "            z = np.dot(w, a)+b\n",
    "            zlist.append(z)\n",
    "            a = sigmoid(z)\n",
    "            alist.append(a)\n",
    "        return alist, zlist\n",
    "    \n",
    "    def outcome(self,x):\n",
    "        a = x.T\n",
    "        for b, w in zip(self.bias, self.weights):\n",
    "            a = sigmoid(np.dot(w, a)+b)\n",
    "        return a\n",
    "    \n",
    "    def predict(self,x):\n",
    "        a = x.T\n",
    "        for b, w in zip(self.bias, self.weights):\n",
    "            a = sigmoid(np.dot(w, a)+b)\n",
    "        predi = np.argmax(a)\n",
    "        return predi   \n",
    "  \n",
    "    def backpro(self,x,t):\n",
    "        delta_b = [np.zeros(b.shape) for b in self.bias]\n",
    "        delta_w = [np.zeros(b.shape) for b in self.weights]\n",
    "        alist, zlist = self.forwardAll(x)\n",
    "        delta1 = (np.array(alist[-1]) - np.array(t)) * sigmoidPrime(np.array(zlist[-1]))\n",
    "        delta_b[-1] = delta1\n",
    "        delta_w[-1] = np.dot(delta1, np.array(alist[-2].T))\n",
    "        delta2 = np.dot(self.weights[-1].T, delta1) * sigmoidPrime(np.array(zlist[-2]))\n",
    "        delta_b[-2] = delta2\n",
    "        delta_w[-2] = np.dot(delta2, np.array(alist[-3].T))  # pay attention to the data type!!!\n",
    "        return delta_b, delta_w\n",
    "    \n",
    "    def fit(self,trainset,eta,epoch):\n",
    "        m = len(trainset)\n",
    "        cost = []\n",
    "        for e in range(epoch):\n",
    "            b = [np.zeros(k.shape) for k in self.bias]   # reset to zeros\n",
    "            #print(b)\n",
    "            w = [np.zeros(k.shape) for k in self.weights]\n",
    "            #print(w)\n",
    "            for x, y in trainset:\n",
    "                t = y.T\n",
    "                dt_b,dt_w = self.backpro(x,t)\n",
    "                delta_b = [i+j for i, j in zip(b,dt_b )]\n",
    "                delta_w = [i+j for i, j in zip(w,dt_w)]\n",
    "            self.bias = [i-(eta*j/m) for i, j in zip(self.bias, delta_b)]\n",
    "            self.weights = [i-(eta*j/m) for i, j in zip(self.weights, delta_w)]\n",
    "            c = self.crossCost(trainset)\n",
    "            cost.append(c)\n",
    "        plt.plot(cost)\n",
    "            #print(self.bias)\n",
    "            #print(self.weights)\n",
    "            \n",
    "    def fitOnline(self, x,y, eta,epoch):\n",
    "        cost = []\n",
    "        for e in range(epoch):\n",
    "            b = [np.zeros(k.shape) for k in self.bias]   # reset to zeros\n",
    "            #print(b)\n",
    "            w = [np.zeros(k.shape) for k in self.weights]\n",
    "            #print(w)\n",
    "            t = y.T\n",
    "            dt_b,dt_w = self.backpro(x,t)            \n",
    "            delta_b = [i+j for i, j in zip(b,dt_b )]\n",
    "            delta_w = [i+j for i, j in zip(w,dt_w)]\n",
    "            self.bias = [i-(eta*j) for i, j in zip(self.bias, delta_b)]\n",
    "            self.weights = [i-(eta*j) for i, j in zip(self.weights, delta_w)]\n",
    "            c = 0.5 * (self.outcome(x)-y)**2\n",
    "            cost.append(c)\n",
    "        print(cost)\n",
    "        \n",
    "    def error( self,x, t ):\n",
    "        outputs = self.outcome(x)  \n",
    "        return 0.5 * np.sum( np.power(outputs - t,2) )\n",
    "        \n",
    "            \n",
    "    def accuracy(self,testset):\n",
    "        m = len(testset)\n",
    "        count = 0\n",
    "        for x,t in testset:\n",
    "            y = t.T\n",
    "            print(len(y))\n",
    "            if len(y)>1:\n",
    "                p = self.predict(x)\n",
    "                print(p)\n",
    "                t = np.argmax(y)\n",
    "                print(t)\n",
    "                print(\"\\n\")\n",
    "            elif len(y)==1:\n",
    "                t = y\n",
    "                print(t)\n",
    "                o = self.outcome(x)\n",
    "                print (o)\n",
    "                if o > 0.5:\n",
    "                    p = 1\n",
    "                else:\n",
    "                    p = 0\n",
    "            if p == t:\n",
    "                count += 1                  \n",
    "        acc = 1.0 * count / m * 100\n",
    "        return acc\n",
    "    \n",
    "    \n",
    "    \n",
    "    def costFunc(self, dataset):\n",
    "        cost = 0.0\n",
    "        for x, t in dataset:\n",
    "            a = self.outcome(x)\n",
    "            cost += 0.5*np.linalg.norm(a-t)**2/len(dataset)\n",
    "        return cost\n",
    "    \n",
    "    \n",
    "    def crossCost( self, dataset, derivative=False ):\n",
    "        cost = 0.0\n",
    "        for x, t in dataset:\n",
    "            outputs = self.outcome(x)\n",
    "            if derivative:\n",
    "                cost += (outputs - t) / (outputs * (1 - outputs)) \n",
    "            else:\n",
    "                cost += np.mean(-np.sum(t * np.log( outputs ) + (1 - t) * np.log(1 - outputs), axis=1))\n",
    "            return cost/len(dataset)\n",
    "\n"
   ]
  },
  {
   "cell_type": "code",
   "execution_count": 140,
   "metadata": {
    "collapsed": false
   },
   "outputs": [],
   "source": [
    "NN = NNW([4,6,4])\n",
    "#NN.weights, NN.bias"
   ]
  },
  {
   "cell_type": "code",
   "execution_count": 141,
   "metadata": {
    "collapsed": false
   },
   "outputs": [],
   "source": [
    "trainset, testset = splitData(train, 0.8)"
   ]
  },
  {
   "cell_type": "code",
   "execution_count": 142,
   "metadata": {
    "collapsed": false
   },
   "outputs": [],
   "source": [
    "#for x, y in trainset:\n",
    " #   print (len(y.T))"
   ]
  },
  {
   "cell_type": "code",
   "execution_count": 143,
   "metadata": {
    "collapsed": false
   },
   "outputs": [
    {
     "data": {
      "image/png": "[encoded data removed]",
      "text/plain": [
       "<matplotlib.figure.Figure at 0x10cbd9048>"
      ]
     },
     "metadata": {},
     "output_type": "display_data"
    }
   ],
   "source": [
    "NN.fit(trainset,0.1,1500)"
   ]
  },
  {
   "cell_type": "code",
   "execution_count": 67,
   "metadata": {
    "collapsed": false
   },
   "outputs": [
    {
     "name": "stdout",
     "output_type": "stream",
     "text": [
      "4\n",
      "2\n",
      "0\n",
      "\n",
      "\n",
      "4\n",
      "2\n",
      "2\n",
      "\n",
      "\n",
      "4\n",
      "2\n",
      "3\n",
      "\n",
      "\n",
      "4\n",
      "2\n",
      "1\n",
      "\n",
      "\n",
      "4\n",
      "2\n",
      "3\n",
      "\n",
      "\n",
      "4\n",
      "2\n",
      "1\n",
      "\n",
      "\n",
      "4\n",
      "2\n",
      "1\n",
      "\n",
      "\n",
      "4\n",
      "2\n",
      "3\n",
      "\n",
      "\n",
      "4\n",
      "2\n",
      "3\n",
      "\n",
      "\n",
      "4\n",
      "2\n",
      "0\n",
      "\n",
      "\n",
      "4\n",
      "2\n",
      "2\n",
      "\n",
      "\n",
      "4\n",
      "2\n",
      "0\n",
      "\n",
      "\n",
      "4\n",
      "2\n",
      "3\n",
      "\n",
      "\n",
      "4\n",
      "2\n",
      "1\n",
      "\n",
      "\n",
      "4\n",
      "2\n",
      "0\n",
      "\n",
      "\n",
      "4\n",
      "2\n",
      "0\n",
      "\n",
      "\n",
      "4\n",
      "2\n",
      "0\n",
      "\n",
      "\n",
      "4\n",
      "2\n",
      "0\n",
      "\n",
      "\n"
     ]
    },
    {
     "data": {
      "text/plain": [
       "11.11111111111111"
      ]
     },
     "execution_count": 67,
     "metadata": {},
     "output_type": "execute_result"
    }
   ],
   "source": [
    "ac = NN.accuracy(trainset)\n",
    "ac"
   ]
  },
  {
   "cell_type": "code",
   "execution_count": null,
   "metadata": {
    "collapsed": true
   },
   "outputs": [],
   "source": []
  },
  {
   "cell_type": "code",
   "execution_count": 68,
   "metadata": {
    "collapsed": false
   },
   "outputs": [],
   "source": [
    "#try fishing dataset\n",
    "fishing_df = pd.read_excel(\n",
    "                'fishingData.xlsx', skiprows = 2, header = 0 )\n",
    "# Enumeric     \n",
    "fishing = fishing_df.replace(['Strong', 'Weak', 'Warm', 'Moderate', \n",
    "                   'Cold','Cool','Sunny','Cloudy','Rainy','Yes','No'], \n",
    "                     [1, 2, 3, 4, 5,6,7,8,9,1,0])\n",
    "                     \n",
    "fishing_training = fishing.loc[0:13]\n",
    "fishing_test = fishing.loc[19:19] \n",
    "\n",
    "      \n",
    "fishing_X = fishing_training.ix[:,0:4] \n",
    "fishing_X = np.matrix(fishing_X).astype(np.float32)\n",
    "\n",
    "fishing_Y = fishing_training.ix[:,4:5]\n",
    "fishing_Y = np.matrix(fishing_Y).astype(np.float32)\n",
    "\n",
    "test = fishing_test.ix[:,0:4]"
   ]
  },
  {
   "cell_type": "code",
   "execution_count": 69,
   "metadata": {
    "collapsed": false
   },
   "outputs": [],
   "source": [
    "fishingset = zip(fishing_X,fishing_Y)\n",
    "fishingset = list(fishingset)"
   ]
  },
  {
   "cell_type": "code",
   "execution_count": 101,
   "metadata": {
    "collapsed": false
   },
   "outputs": [
    {
     "data": {
      "text/html": [
       "<div>\n",
       "<table border=\"1\" class=\"dataframe\">\n",
       "  <thead>\n",
       "    <tr style=\"text-align: right;\">\n",
       "      <th></th>\n",
       "      <th>Wind</th>\n",
       "      <th>Water</th>\n",
       "      <th>Air</th>\n",
       "      <th>Forecast</th>\n",
       "      <th>Fish?</th>\n",
       "    </tr>\n",
       "  </thead>\n",
       "  <tbody>\n",
       "    <tr>\n",
       "      <th>0</th>\n",
       "      <td>Strong</td>\n",
       "      <td>Warm</td>\n",
       "      <td>Warm</td>\n",
       "      <td>Sunny</td>\n",
       "      <td>Yes</td>\n",
       "    </tr>\n",
       "    <tr>\n",
       "      <th>1</th>\n",
       "      <td>Weak</td>\n",
       "      <td>Warm</td>\n",
       "      <td>Warm</td>\n",
       "      <td>Sunny</td>\n",
       "      <td>No</td>\n",
       "    </tr>\n",
       "    <tr>\n",
       "      <th>2</th>\n",
       "      <td>Strong</td>\n",
       "      <td>Warm</td>\n",
       "      <td>Warm</td>\n",
       "      <td>Cloudy</td>\n",
       "      <td>Yes</td>\n",
       "    </tr>\n",
       "    <tr>\n",
       "      <th>3</th>\n",
       "      <td>Strong</td>\n",
       "      <td>Moderate</td>\n",
       "      <td>Warm</td>\n",
       "      <td>Rainy</td>\n",
       "      <td>Yes</td>\n",
       "    </tr>\n",
       "    <tr>\n",
       "      <th>4</th>\n",
       "      <td>Strong</td>\n",
       "      <td>Cold</td>\n",
       "      <td>Cool</td>\n",
       "      <td>Rainy</td>\n",
       "      <td>No</td>\n",
       "    </tr>\n",
       "    <tr>\n",
       "      <th>5</th>\n",
       "      <td>Weak</td>\n",
       "      <td>Cold</td>\n",
       "      <td>Cool</td>\n",
       "      <td>Rainy</td>\n",
       "      <td>No</td>\n",
       "    </tr>\n",
       "    <tr>\n",
       "      <th>6</th>\n",
       "      <td>Weak</td>\n",
       "      <td>Cold</td>\n",
       "      <td>Cool</td>\n",
       "      <td>Sunny</td>\n",
       "      <td>No</td>\n",
       "    </tr>\n",
       "    <tr>\n",
       "      <th>7</th>\n",
       "      <td>Strong</td>\n",
       "      <td>Moderate</td>\n",
       "      <td>Warm</td>\n",
       "      <td>Sunny</td>\n",
       "      <td>Yes</td>\n",
       "    </tr>\n",
       "    <tr>\n",
       "      <th>8</th>\n",
       "      <td>Strong</td>\n",
       "      <td>Cold</td>\n",
       "      <td>Cool</td>\n",
       "      <td>Sunny</td>\n",
       "      <td>Yes</td>\n",
       "    </tr>\n",
       "    <tr>\n",
       "      <th>9</th>\n",
       "      <td>Strong</td>\n",
       "      <td>Moderate</td>\n",
       "      <td>Cool</td>\n",
       "      <td>Rainy</td>\n",
       "      <td>No</td>\n",
       "    </tr>\n",
       "    <tr>\n",
       "      <th>10</th>\n",
       "      <td>Weak</td>\n",
       "      <td>Moderate</td>\n",
       "      <td>Cool</td>\n",
       "      <td>Sunny</td>\n",
       "      <td>Yes</td>\n",
       "    </tr>\n",
       "    <tr>\n",
       "      <th>11</th>\n",
       "      <td>Weak</td>\n",
       "      <td>Moderate</td>\n",
       "      <td>Warm</td>\n",
       "      <td>Sunny</td>\n",
       "      <td>Yes</td>\n",
       "    </tr>\n",
       "    <tr>\n",
       "      <th>12</th>\n",
       "      <td>Strong</td>\n",
       "      <td>Warm</td>\n",
       "      <td>Cool</td>\n",
       "      <td>Sunny</td>\n",
       "      <td>Yes</td>\n",
       "    </tr>\n",
       "    <tr>\n",
       "      <th>13</th>\n",
       "      <td>Weak</td>\n",
       "      <td>Moderate</td>\n",
       "      <td>Warm</td>\n",
       "      <td>Rainy</td>\n",
       "      <td>No</td>\n",
       "    </tr>\n",
       "    <tr>\n",
       "      <th>14</th>\n",
       "      <td>NaN</td>\n",
       "      <td>NaN</td>\n",
       "      <td>NaN</td>\n",
       "      <td>NaN</td>\n",
       "      <td>NaN</td>\n",
       "    </tr>\n",
       "    <tr>\n",
       "      <th>15</th>\n",
       "      <td>NaN</td>\n",
       "      <td>NaN</td>\n",
       "      <td>NaN</td>\n",
       "      <td>NaN</td>\n",
       "      <td>NaN</td>\n",
       "    </tr>\n",
       "    <tr>\n",
       "      <th>16</th>\n",
       "      <td>Test Data</td>\n",
       "      <td>NaN</td>\n",
       "      <td>NaN</td>\n",
       "      <td>NaN</td>\n",
       "      <td>NaN</td>\n",
       "    </tr>\n",
       "    <tr>\n",
       "      <th>17</th>\n",
       "      <td>NaN</td>\n",
       "      <td>NaN</td>\n",
       "      <td>NaN</td>\n",
       "      <td>NaN</td>\n",
       "      <td>NaN</td>\n",
       "    </tr>\n",
       "    <tr>\n",
       "      <th>18</th>\n",
       "      <td>Wind</td>\n",
       "      <td>Water</td>\n",
       "      <td>Air</td>\n",
       "      <td>Forecast</td>\n",
       "      <td>Fish?</td>\n",
       "    </tr>\n",
       "    <tr>\n",
       "      <th>19</th>\n",
       "      <td>Strong</td>\n",
       "      <td>Cold</td>\n",
       "      <td>Warm</td>\n",
       "      <td>Sunny</td>\n",
       "      <td>?</td>\n",
       "    </tr>\n",
       "  </tbody>\n",
       "</table>\n",
       "</div>"
      ],
      "text/plain": [
       "         Wind     Water   Air  Forecast  Fish?\n",
       "0      Strong      Warm  Warm     Sunny    Yes\n",
       "1        Weak      Warm  Warm     Sunny     No\n",
       "2      Strong      Warm  Warm    Cloudy    Yes\n",
       "3      Strong  Moderate  Warm     Rainy    Yes\n",
       "4      Strong      Cold  Cool     Rainy     No\n",
       "5        Weak      Cold  Cool     Rainy     No\n",
       "6        Weak      Cold  Cool     Sunny     No\n",
       "7      Strong  Moderate  Warm     Sunny    Yes\n",
       "8      Strong      Cold  Cool     Sunny    Yes\n",
       "9      Strong  Moderate  Cool     Rainy     No\n",
       "10       Weak  Moderate  Cool     Sunny    Yes\n",
       "11       Weak  Moderate  Warm     Sunny    Yes\n",
       "12     Strong      Warm  Cool     Sunny    Yes\n",
       "13       Weak  Moderate  Warm     Rainy     No\n",
       "14        NaN       NaN   NaN       NaN    NaN\n",
       "15        NaN       NaN   NaN       NaN    NaN\n",
       "16  Test Data       NaN   NaN       NaN    NaN\n",
       "17        NaN       NaN   NaN       NaN    NaN\n",
       "18       Wind     Water   Air  Forecast  Fish?\n",
       "19     Strong      Cold  Warm     Sunny      ?"
      ]
     },
     "execution_count": 101,
     "metadata": {},
     "output_type": "execute_result"
    }
   ],
   "source": [
    "fishing_df"
   ]
  },
  {
   "cell_type": "code",
   "execution_count": 122,
   "metadata": {
    "collapsed": false
   },
   "outputs": [],
   "source": [
    "FN = NNW([4,6,1])\n",
    "#NN.weights, NN.bias\n",
    "fish_train, fish_test = splitData(fishingset, 0.2)"
   ]
  },
  {
   "cell_type": "code",
   "execution_count": 123,
   "metadata": {
    "collapsed": false
   },
   "outputs": [
    {
     "data": {
      "image/png": "[encoded data removed]",
      "text/plain": [
       "<matplotlib.figure.Figure at 0x10cbaf5f8>"
      ]
     },
     "metadata": {},
     "output_type": "display_data"
    }
   ],
   "source": [
    "FN.fit(fish_train, 0.05, 1500)"
   ]
  },
  {
   "cell_type": "code",
   "execution_count": 124,
   "metadata": {
    "collapsed": false
   },
   "outputs": [
    {
     "name": "stdout",
     "output_type": "stream",
     "text": [
      "1\n",
      "[[ 1.]]\n",
      "[[ 0.01016822]]\n",
      "1\n",
      "[[ 1.]]\n",
      "[[ 0.01049136]]\n",
      "1\n",
      "[[ 0.]]\n",
      "[[ 0.00956553]]\n"
     ]
    },
    {
     "data": {
      "text/plain": [
       "33.33333333333333"
      ]
     },
     "execution_count": 124,
     "metadata": {},
     "output_type": "execute_result"
    }
   ],
   "source": [
    "FN.accuracy(fish_train)"
   ]
  },
  {
   "cell_type": "code",
   "execution_count": 100,
   "metadata": {
    "collapsed": false
   },
   "outputs": [
    {
     "data": {
      "text/plain": [
       "[(matrix([[ 2.,  5.,  6.,  7.]], dtype=float32),\n",
       "  matrix([[ 0.]], dtype=float32)),\n",
       " (matrix([[ 1.,  4.,  3.,  7.]], dtype=float32),\n",
       "  matrix([[ 1.]], dtype=float32)),\n",
       " (matrix([[ 1.,  3.,  6.,  7.]], dtype=float32),\n",
       "  matrix([[ 1.]], dtype=float32))]"
      ]
     },
     "execution_count": 100,
     "metadata": {},
     "output_type": "execute_result"
    }
   ],
   "source": [
    "fish_train"
   ]
  },
  {
   "cell_type": "code",
   "execution_count": 125,
   "metadata": {
    "collapsed": false
   },
   "outputs": [
    {
     "data": {
      "text/plain": [
       "matrix([[ 1.],\n",
       "        [ 0.],\n",
       "        [ 1.],\n",
       "        [ 1.],\n",
       "        [ 0.],\n",
       "        [ 0.],\n",
       "        [ 0.],\n",
       "        [ 1.],\n",
       "        [ 1.],\n",
       "        [ 0.],\n",
       "        [ 1.],\n",
       "        [ 1.],\n",
       "        [ 1.],\n",
       "        [ 0.]], dtype=float32)"
      ]
     },
     "execution_count": 125,
     "metadata": {},
     "output_type": "execute_result"
    }
   ],
   "source": [
    "fishing_Y\n"
   ]
  },
  {
   "cell_type": "code",
   "execution_count": 867,
   "metadata": {
    "collapsed": false
   },
   "outputs": [
    {
     "data": {
      "text/plain": [
       "0.1363532619810702"
      ]
     },
     "execution_count": 867,
     "metadata": {},
     "output_type": "execute_result"
    }
   ],
   "source": [
    "FN.costFunc(fish_train)"
   ]
  },
  {
   "cell_type": "code",
   "execution_count": 144,
   "metadata": {
    "collapsed": true
   },
   "outputs": [],
   "source": [
    "XX = np.matrix([[0, 0], [0, 1], [1, 0], [1, 1]])\n",
    "YY= np.matrix([[0], [1], [1], [0]])"
   ]
  },
  {
   "cell_type": "code",
   "execution_count": 145,
   "metadata": {
    "collapsed": true
   },
   "outputs": [],
   "source": [
    "XXYY = zip(XX,YY)"
   ]
  },
  {
   "cell_type": "code",
   "execution_count": 146,
   "metadata": {
    "collapsed": false
   },
   "outputs": [],
   "source": [
    "XXYY=list(XXYY)"
   ]
  },
  {
   "cell_type": "code",
   "execution_count": 154,
   "metadata": {
    "collapsed": true
   },
   "outputs": [],
   "source": [
    "XXYYNN = NNW([2,4,1])"
   ]
  },
  {
   "cell_type": "code",
   "execution_count": 151,
   "metadata": {
    "collapsed": false
   },
   "outputs": [
    {
     "data": {
      "image/png": "[encoded data removed]",
      "text/plain": [
       "<matplotlib.figure.Figure at 0x10cd26828>"
      ]
     },
     "metadata": {},
     "output_type": "display_data"
    }
   ],
   "source": [
    "XXYYNN.fit(XXYY,0.05,10000)"
   ]
  },
  {
   "cell_type": "code",
   "execution_count": 152,
   "metadata": {
    "collapsed": false
   },
   "outputs": [
    {
     "data": {
      "text/plain": [
       "matrix([[ 0.07579079,  0.06912453,  0.06307976,  0.06257147]])"
      ]
     },
     "execution_count": 152,
     "metadata": {},
     "output_type": "execute_result"
    }
   ],
   "source": [
    "XXYYNN.outcome(XX)"
   ]
  },
  {
   "cell_type": "code",
   "execution_count": 155,
   "metadata": {
    "collapsed": false
   },
   "outputs": [
    {
     "data": {
      "text/plain": [
       "[array([[ 0.14584609, -0.01646064, -0.13942471, -0.0745353 , -0.13833091],\n",
       "        [ 0.11796992, -0.14706935,  0.10025101, -0.14960364, -0.00204928],\n",
       "        [ 0.02070564,  0.13890207, -0.24961248,  0.08551349,  0.06243497]]),\n",
       " array([[ 0.03967346],\n",
       "        [-0.19004994],\n",
       "        [-0.07309223],\n",
       "        [-0.16903579],\n",
       "        [ 0.09659413]])]"
      ]
     },
     "execution_count": 155,
     "metadata": {},
     "output_type": "execute_result"
    }
   ],
   "source": [
    "XXYYNN.w"
   ]
  },
  {
   "cell_type": "code",
   "execution_count": 160,
   "metadata": {
    "collapsed": false
   },
   "outputs": [
    {
     "data": {
      "text/plain": [
       "[array([[-1.19649318,  0.19291755],\n",
       "        [ 0.45408778, -0.75819461],\n",
       "        [-0.27557792,  1.38001985],\n",
       "        [-0.0634638 , -1.06087879]]),\n",
       " array([[ 0.7752201 , -0.36834505, -0.77071008,  0.16904494]])]"
      ]
     },
     "execution_count": 160,
     "metadata": {},
     "output_type": "execute_result"
    }
   ],
   "source": [
    "XXYYNN.weights"
   ]
  },
  {
   "cell_type": "code",
   "execution_count": null,
   "metadata": {
    "collapsed": true
   },
   "outputs": [],
   "source": []
  }
 ],
 "metadata": {
  "kernelspec": {
   "display_name": "Python 3",
   "language": "python",
   "name": "python3"
  },
  "language_info": {
   "codemirror_mode": {
    "name": "ipython",
    "version": 3
   },
   "file_extension": ".py",
   "mimetype": "text/x-python",
   "name": "python",
   "nbconvert_exporter": "python",
   "pygments_lexer": "ipython3",
   "version": "3.5.1"
  }
 },
 "nbformat": 4,
 "nbformat_minor": 0
}
